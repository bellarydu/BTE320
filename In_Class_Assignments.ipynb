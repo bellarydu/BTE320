{
  "nbformat": 4,
  "nbformat_minor": 0,
  "metadata": {
    "colab": {
      "provenance": [],
      "authorship_tag": "ABX9TyNzSn1nlYZN/2HdjeBsFGjV",
      "include_colab_link": true
    },
    "kernelspec": {
      "name": "python3",
      "display_name": "Python 3"
    },
    "language_info": {
      "name": "python"
    }
  },
  "cells": [
    {
      "cell_type": "markdown",
      "metadata": {
        "id": "view-in-github",
        "colab_type": "text"
      },
      "source": [
        "<a href=\"https://colab.research.google.com/github/bellarydu/BTE320/blob/main/In_Class_Assignments.ipynb\" target=\"_parent\"><img src=\"https://colab.research.google.com/assets/colab-badge.svg\" alt=\"Open In Colab\"/></a>"
      ]
    },
    {
      "cell_type": "code",
      "source": [
        "# 1. In Class Assignment --> Cylinder Area Calculator\n",
        "pi = 3.14  # Approximate value of Pi\n",
        "\n",
        "radius = float(input('Please provide the radius: '))\n",
        "height = float(input('Please provide the height: '))\n",
        "\n",
        "area = 2 * pi * radius ** 2 + 2 * pi * radius * height\n",
        "print(f'Area of cylinder: {area} sq. ft')\n"
      ],
      "metadata": {
        "colab": {
          "base_uri": "https://localhost:8080/"
        },
        "id": "3gLG548GKa5A",
        "outputId": "6553b8fd-a7d8-4ab4-8d30-9d11e38a537e"
      },
      "execution_count": null,
      "outputs": [
        {
          "output_type": "stream",
          "name": "stdout",
          "text": [
            "Please provide the radius: 5\n",
            "Please provide the height: 6\n",
            "Area of cylinder: 345.4 sq. ft\n"
          ]
        }
      ]
    },
    {
      "cell_type": "code",
      "source": [
        "# 2. In Class Assignment 1/31 --> Numerical Calculator\n",
        "num1 = float(input(\"Please enter first number: \"))\n",
        "num2 = float(input(\"Please enter second number: \"))\n",
        "symbol = input(\"Please enter an symbol (+, -, *, /): \")\n",
        "\n",
        "if symbol == '+':\n",
        "    result = num1 + num2\n",
        "    print(f\"Result: {num1} + {num2} = {result}\")\n",
        "elif symbol == '-':\n",
        "    result = num1 - num2\n",
        "    print(f\"Result: {num1} - {num2} = {result}\")\n",
        "elif symbol == '*':\n",
        "    result = num1 * num2\n",
        "    print(f\"Result: {num1} * {num2} = {result}\")\n",
        "elif symbol == '/':\n",
        "    if num2 != 0:\n",
        "        result = num1 / num2\n",
        "        print(f\"Result: {num1} / {num2} = {result}\")\n",
        "    else:\n",
        "        print(\"Error: division by zero is not allowed.\")\n",
        "else:\n",
        "    print(\"Invalid symbol\")"
      ],
      "metadata": {
        "id": "NpquL3gqsVLy",
        "colab": {
          "base_uri": "https://localhost:8080/"
        },
        "outputId": "1be3ade2-2fa3-47a6-a28d-d50591852612"
      },
      "execution_count": 3,
      "outputs": [
        {
          "output_type": "stream",
          "name": "stdout",
          "text": [
            "Please enter first number: 1\n",
            "Please enter second number: 2\n",
            "Please enter an symbol (+, -, *, /): +\n",
            "Result: 1.0 + 2.0 = 3.0\n"
          ]
        }
      ]
    },
    {
      "cell_type": "code",
      "source": [
        "# 3. In Class Assignment 2/5 --> Parking Garage\n",
        "for numberHours in range (1,9):\n",
        "  fee = 5 + 2.5 *numberHours\n",
        "  if fee < 10:\n",
        "    fee = 10.0\n",
        "  elif fee > 20:\n",
        "    fee = 20.0\n",
        "  print(numberHours, fee)\n"
      ],
      "metadata": {
        "colab": {
          "base_uri": "https://localhost:8080/"
        },
        "id": "jIPpJyBJbvFz",
        "outputId": "87a2e7af-ff64-4261-aba6-eac1ccc91eb7"
      },
      "execution_count": null,
      "outputs": [
        {
          "output_type": "stream",
          "name": "stdout",
          "text": [
            "1 10.0\n",
            "2 10.0\n",
            "3 12.5\n",
            "4 15.0\n",
            "5 17.5\n",
            "6 20.0\n",
            "7 20.0\n",
            "8 20.0\n"
          ]
        }
      ]
    },
    {
      "cell_type": "code",
      "source": [
        "# 4. In Class Assignment 2/5 --> Movie Theater\n",
        "# import math --> can use squareroot math instead of **\n",
        "\n",
        "for adMoney in range (0, 201, 25):\n",
        "  revenue = (20 + 2 * round(adMoney ** .5)) * 10\n",
        "  costs = 200 + adMoney\n",
        "  profit = revenue - costs\n",
        "  print(adMoney, profit)"
      ],
      "metadata": {
        "colab": {
          "base_uri": "https://localhost:8080/"
        },
        "id": "DZIuDXvQdD5d",
        "outputId": "9c511693-d357-41f9-d89a-59520d619ffc"
      },
      "execution_count": null,
      "outputs": [
        {
          "output_type": "stream",
          "name": "stdout",
          "text": [
            "0 0\n",
            "25 75\n",
            "50 90\n",
            "75 105\n",
            "100 100\n",
            "125 95\n",
            "150 90\n",
            "175 85\n",
            "200 80\n"
          ]
        }
      ]
    },
    {
      "cell_type": "code",
      "source": [
        "# 5. In Class Assignment 2/10 --> Rock, Paper, Scissors\n",
        "\n",
        "import random\n",
        "\n",
        "print('Welcome to Rock, Paper, Scissors!')\n",
        "\n",
        "play = input('Do you want to play the game (yes/no)?')\n",
        "\n",
        "while play == 'yes':\n",
        "  p1 = input('Player 1 - Choose between rock/paper/scissors:')\n",
        "  p2 = random.choice(['rock', 'paper', 'scissors'])\n",
        "\n",
        "  print(f'Player chose {p1}; Computer chose {p2}')\n",
        "\n",
        "  if p1 == p2:\n",
        "    print('Draw')\n",
        "  elif ((p1 == 'rock' and p2 == 'scissors') or\n",
        "       (p1 == 'scissors' and p2 == 'paper') or\n",
        "       (p1 == 'paper' and p2 == 'rock')\n",
        "       ):\n",
        "    print('Player wins')\n",
        "  else:\n",
        "    print('Computer wins')\n",
        "\n",
        "  play = input('Do you want to play another game (yes/no)?')\n",
        "print('Good day...')"
      ],
      "metadata": {
        "colab": {
          "base_uri": "https://localhost:8080/"
        },
        "id": "6NefoJsIHbqd",
        "outputId": "c54eb8b5-459c-4f31-dbff-d18a2267051b"
      },
      "execution_count": null,
      "outputs": [
        {
          "output_type": "stream",
          "name": "stdout",
          "text": [
            "Welcome to Rock, Paper, Scissors!\n",
            "Do you want to play the game (yes/no)?yes\n",
            "Player 1 - Choose between rock/paper/scissors:paper\n",
            "Player chose paper; Computer chose rock\n",
            "Player wins\n",
            "Do you want to play another game (yes/no)?yes\n",
            "Player 1 - Choose between rock/paper/scissors:rock\n",
            "Player chose rock; Computer chose paper\n",
            "Computer wins\n",
            "Do you want to play another game (yes/no)?no\n",
            "Good day...\n"
          ]
        }
      ]
    },
    {
      "cell_type": "code",
      "source": [
        "# 6. In Class Assignment 2/17 --> Numerical Input Decending List\n",
        "num_list = [] #Empty List\n",
        "\n",
        "num = float(input('Please enter a number: '))\n",
        "\n",
        "while num != 0.0: # Number does not equal 0 this is the condition\n",
        "  num_list.append(num)\n",
        "  num = float(input('Please enter a number: '))\n",
        "\n",
        "num_list.sort(reverse=True) #Descending order\n",
        "print(num_list)\n"
      ],
      "metadata": {
        "colab": {
          "base_uri": "https://localhost:8080/"
        },
        "id": "EixsVjPbPEGL",
        "outputId": "4f936b15-f1cc-4be6-ef29-404c12101cdb"
      },
      "execution_count": 2,
      "outputs": [
        {
          "output_type": "stream",
          "name": "stdout",
          "text": [
            "Please enter a number: 4\n",
            "Please enter a number: 5\n",
            "Please enter a number: 6\n",
            "Please enter a number: 7\n",
            "Please enter a number: 8\n",
            "Please enter a number: 0\n",
            "[8.0, 7.0, 6.0, 5.0, 4.0]\n"
          ]
        }
      ]
    }
  ]
}