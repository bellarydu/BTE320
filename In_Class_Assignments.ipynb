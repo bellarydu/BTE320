{
  "nbformat": 4,
  "nbformat_minor": 0,
  "metadata": {
    "colab": {
      "provenance": [],
      "authorship_tag": "ABX9TyME0OYaprL6HnPL1TVzDcvy",
      "include_colab_link": true
    },
    "kernelspec": {
      "name": "python3",
      "display_name": "Python 3"
    },
    "language_info": {
      "name": "python"
    }
  },
  "cells": [
    {
      "cell_type": "markdown",
      "metadata": {
        "id": "view-in-github",
        "colab_type": "text"
      },
      "source": [
        "<a href=\"https://colab.research.google.com/github/bellarydu/BTE320/blob/main/In_Class_Assignments.ipynb\" target=\"_parent\"><img src=\"https://colab.research.google.com/assets/colab-badge.svg\" alt=\"Open In Colab\"/></a>"
      ]
    },
    {
      "cell_type": "code",
      "source": [
        "# 1. In Class Assignment --> Cylinder Area Calculator\n",
        "pi = 3.14  # Approximate value of Pi\n",
        "\n",
        "radius = float(input('Please provide the radius: '))\n",
        "height = float(input('Please provide the height: '))\n",
        "\n",
        "area = 2 * pi * radius ** 2 + 2 * pi * radius * height\n",
        "print(f'Area of cylinder: {area} sq. ft')\n"
      ],
      "metadata": {
        "colab": {
          "base_uri": "https://localhost:8080/"
        },
        "id": "3gLG548GKa5A",
        "outputId": "6553b8fd-a7d8-4ab4-8d30-9d11e38a537e"
      },
      "execution_count": null,
      "outputs": [
        {
          "output_type": "stream",
          "name": "stdout",
          "text": [
            "Please provide the radius: 5\n",
            "Please provide the height: 6\n",
            "Area of cylinder: 345.4 sq. ft\n"
          ]
        }
      ]
    },
    {
      "cell_type": "code",
      "source": [
        "# 2. In Class Assignment 1/31 --> Numerical Calculator\n",
        "num1 = float(input(\"Please enter first number: \"))\n",
        "num2 = float(input(\"Please enter second number: \"))\n",
        "symbol = input(\"Please enter an symbol (+, -, *, /): \")\n",
        "\n",
        "if symbol == '+':\n",
        "    result = num1 + num2\n",
        "    print(f\"Result: {num1} + {num2} = {result}\")\n",
        "elif symbol == '-':\n",
        "    result = num1 - num2\n",
        "    print(f\"Result: {num1} - {num2} = {result}\")\n",
        "elif symbol == '*':\n",
        "    result = num1 * num2\n",
        "    print(f\"Result: {num1} * {num2} = {result}\")\n",
        "elif symbol == '/':\n",
        "    if num2 != 0:\n",
        "        result = num1 / num2\n",
        "        print(f\"Result: {num1} / {num2} = {result}\")\n",
        "    else:\n",
        "        print(\"Error: division by zero is not allowed.\")\n",
        "else:\n",
        "    print(\"Invalid symbol\")"
      ],
      "metadata": {
        "id": "NpquL3gqsVLy"
      },
      "execution_count": null,
      "outputs": []
    },
    {
      "cell_type": "code",
      "source": [
        "# 3. In Class Assignment 2/5 --> Parking Garage\n",
        "for numberHours in range (1,9):\n",
        "  fee = 5 + 2.5 *numberHours\n",
        "  if fee < 10:\n",
        "    fee = 10.0\n",
        "  elif fee > 20:\n",
        "    fee = 20.0\n",
        "  print(numberHours, fee)\n"
      ],
      "metadata": {
        "colab": {
          "base_uri": "https://localhost:8080/"
        },
        "id": "jIPpJyBJbvFz",
        "outputId": "87a2e7af-ff64-4261-aba6-eac1ccc91eb7"
      },
      "execution_count": null,
      "outputs": [
        {
          "output_type": "stream",
          "name": "stdout",
          "text": [
            "1 10.0\n",
            "2 10.0\n",
            "3 12.5\n",
            "4 15.0\n",
            "5 17.5\n",
            "6 20.0\n",
            "7 20.0\n",
            "8 20.0\n"
          ]
        }
      ]
    },
    {
      "cell_type": "code",
      "source": [
        "# 4. In Class Assignment 2/5 --> Movie Theater\n",
        "# import math --> can use squareroot math instead of **\n",
        "\n",
        "for adMoney in range (0, 201, 25):\n",
        "  revenue = (20 + 2 * round(adMoney ** .5)) * 10\n",
        "  costs = 200 + adMoney\n",
        "  profit = revenue - costs\n",
        "  print(adMoney, profit)"
      ],
      "metadata": {
        "colab": {
          "base_uri": "https://localhost:8080/"
        },
        "id": "DZIuDXvQdD5d",
        "outputId": "9c511693-d357-41f9-d89a-59520d619ffc"
      },
      "execution_count": null,
      "outputs": [
        {
          "output_type": "stream",
          "name": "stdout",
          "text": [
            "0 0\n",
            "25 75\n",
            "50 90\n",
            "75 105\n",
            "100 100\n",
            "125 95\n",
            "150 90\n",
            "175 85\n",
            "200 80\n"
          ]
        }
      ]
    },
    {
      "cell_type": "code",
      "source": [
        "# 5. In Class Assignment 2/10 --> Rock, Paper, Scissors\n",
        "\n",
        "import random\n",
        "\n",
        "print('Welcome to Rock, Paper, Scissors!')\n",
        "\n",
        "play = input('Do you want to play the game (yes/no)?').capitalize()\n",
        "\n",
        "while play == 'yes':\n",
        "  p1 = input('Player 1 - Choose between rock/paper/scissors:').capitalize()\n",
        "  p2 = random.choice(['rock', 'paper', 'scissors']).capitalize()\n",
        "\n",
        "  print(f'Player chose {p1}; Computer chose {p2}')\n",
        "\n",
        "  if p1 == p2:\n",
        "    print('Draw')\n",
        "  elif ((p1 == 'rock' and p2 == 'scissors') or\n",
        "       (p1 == 'scissors' and p2 == 'paper') or\n",
        "       (p1 == 'paper' and p2 == 'rock')\n",
        "       ):\n",
        "    print('Player wins')\n",
        "  else:\n",
        "    print('Computer wins')\n",
        "\n",
        "  play = input('Do you want to play another game (yes/no)?').capitalize()\n",
        "print('Good day...')"
      ],
      "metadata": {
        "colab": {
          "base_uri": "https://localhost:8080/"
        },
        "id": "6NefoJsIHbqd",
        "outputId": "427250b3-0e05-4734-8c5e-76067a522df1"
      },
      "execution_count": 18,
      "outputs": [
        {
          "output_type": "stream",
          "name": "stdout",
          "text": [
            "Welcome to Rock, Paper, Scissors!\n",
            "Do you want to play the game (yes/no)?yes\n",
            "Player 1 - Choose between rock/paper/scissors:rock\n",
            "Player chose rock; Computer chose paper\n",
            "Computer wins\n",
            "Do you want to play another game (yes/no)?no\n",
            "Good day...\n"
          ]
        }
      ]
    }
  ]
}