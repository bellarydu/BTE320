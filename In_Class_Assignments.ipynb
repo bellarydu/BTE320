{
  "nbformat": 4,
  "nbformat_minor": 0,
  "metadata": {
    "colab": {
      "provenance": [],
      "authorship_tag": "ABX9TyO37Thxugtk7BI0QycQ+JhU",
      "include_colab_link": true
    },
    "kernelspec": {
      "name": "python3",
      "display_name": "Python 3"
    },
    "language_info": {
      "name": "python"
    }
  },
  "cells": [
    {
      "cell_type": "markdown",
      "metadata": {
        "id": "view-in-github",
        "colab_type": "text"
      },
      "source": [
        "<a href=\"https://colab.research.google.com/github/bellarydu/BTE320/blob/main/In_Class_Assignments.ipynb\" target=\"_parent\"><img src=\"https://colab.research.google.com/assets/colab-badge.svg\" alt=\"Open In Colab\"/></a>"
      ]
    },
    {
      "cell_type": "code",
      "execution_count": null,
      "metadata": {
        "colab": {
          "base_uri": "https://localhost:8080/"
        },
        "id": "m9LcvFEjo-VM",
        "outputId": "c08fec41-d07a-452b-e870-4b7f04ffc5d6"
      },
      "outputs": [
        {
          "name": "stdout",
          "output_type": "stream",
          "text": [
            "radius: 5\n",
            "height: 5\n"
          ]
        }
      ],
      "source": [
        "from ast import Add\n",
        "Radius = input(\"radius: \") # My practice\n",
        "Radius = int(Radius)\n",
        "Height = input(\"height: \")\n",
        "Height = int(Height)\n",
        "pi = 3.14\n",
        "pi = int(3.14)\n",
        "Area = int((2 * pi ** (Radius) + (2 * pi * Radius * Height)))\n",
        "print = int(Area)"
      ]
    },
    {
      "cell_type": "code",
      "source": [
        "# First In Class Assignment\n",
        "pi = 3.14  # Approximate value of Pi\n",
        "\n",
        "radius = float(input('Please provide the radius: '))\n",
        "height = float(input('Please provide the height: '))\n",
        "\n",
        "area = 2 * pi * radius ** 2 + 2 * pi * radius * height\n",
        "print(f'Area of cylinder: {area} sq. ft')\n"
      ],
      "metadata": {
        "colab": {
          "base_uri": "https://localhost:8080/"
        },
        "id": "3gLG548GKa5A",
        "outputId": "6553b8fd-a7d8-4ab4-8d30-9d11e38a537e"
      },
      "execution_count": null,
      "outputs": [
        {
          "output_type": "stream",
          "name": "stdout",
          "text": [
            "Please provide the radius: 5\n",
            "Please provide the height: 6\n",
            "Area of cylinder: 345.4 sq. ft\n"
          ]
        }
      ]
    },
    {
      "cell_type": "code",
      "source": [
        "#In Class Assignment 1/31\n",
        "num1 = float(input(\"Please enter first number: \"))\n",
        "num2 = float(input(\"Please enter second number: \"))\n",
        "symbol = input(\"Please enter an symbol (+, -, *, /): \")\n",
        "\n",
        "if symbol == '+':\n",
        "    result = num1 + num2\n",
        "    print(f\"Result: {num1} + {num2} = {result}\")\n",
        "elif symbol == '-':\n",
        "    result = num1 - num2\n",
        "    print(f\"Result: {num1} - {num2} = {result}\")\n",
        "elif symbol == '*':\n",
        "    result = num1 * num2\n",
        "    print(f\"Result: {num1} * {num2} = {result}\")\n",
        "elif symbol == '/':\n",
        "    if num2 != 0:\n",
        "        result = num1 / num2\n",
        "        print(f\"Result: {num1} / {num2} = {result}\")\n",
        "    else:\n",
        "        print(\"Error: division by zero is not allowed.\")\n",
        "else:\n",
        "    print(\"Invalid symbol\")"
      ],
      "metadata": {
        "id": "NpquL3gqsVLy"
      },
      "execution_count": null,
      "outputs": []
    },
    {
      "cell_type": "code",
      "source": [
        "#In Class Assignment #1 MY ANSWER 2/5\n",
        "#Generate table header\n",
        "print(f\"{'Hours Parked':<15}{'Fee ($)':<10}\")\n",
        "print(\"-\" * 25)\n",
        "\n",
        "#Generate table for 1 to 8 hours parked\n",
        "for hours in range(1,9):\n",
        "  fee = 5 + (hours * 2.5)\n",
        "  fee = max(fee,10.0)\n",
        "  fee = min(fee,20.0)\n",
        "  print(f\"{hours:<15}{fee:10.2f}\")\n"
      ],
      "metadata": {
        "colab": {
          "base_uri": "https://localhost:8080/"
        },
        "id": "rhndtjaCYBC8",
        "outputId": "f71eb928-455d-4993-cb9f-61a9accc8dc7"
      },
      "execution_count": 1,
      "outputs": [
        {
          "output_type": "stream",
          "name": "stdout",
          "text": [
            "Hours Parked   Fee ($)   \n",
            "-------------------------\n",
            "1                   10.00\n",
            "2                   10.00\n",
            "3                   12.50\n",
            "4                   15.00\n",
            "5                   17.50\n",
            "6                   20.00\n",
            "7                   20.00\n",
            "8                   20.00\n"
          ]
        }
      ]
    },
    {
      "cell_type": "code",
      "source": [
        "##In Class Assignment #1 TEACHER ANSWER 2/5\n",
        "for numberHours in range (1,9):\n",
        "  fee = 5 + 2.5 *numberHours\n",
        "  if fee < 10:\n",
        "    fee = 10.0\n",
        "  elif fee > 20:\n",
        "    fee = 20.0\n",
        "  print(numberHours, fee)\n"
      ],
      "metadata": {
        "colab": {
          "base_uri": "https://localhost:8080/"
        },
        "id": "jIPpJyBJbvFz",
        "outputId": "87a2e7af-ff64-4261-aba6-eac1ccc91eb7"
      },
      "execution_count": 4,
      "outputs": [
        {
          "output_type": "stream",
          "name": "stdout",
          "text": [
            "1 10.0\n",
            "2 10.0\n",
            "3 12.5\n",
            "4 15.0\n",
            "5 17.5\n",
            "6 20.0\n",
            "7 20.0\n",
            "8 20.0\n"
          ]
        }
      ]
    },
    {
      "cell_type": "code",
      "source": [
        "#In Class Assignment #2 MY ANSWER / TEACHER 2/5\n",
        "# import math --> can use squareroot math instead of **\n",
        "\n",
        "for adMoney in range (0, 201, 25):\n",
        "  revenue = (20 + 2 * round(adMoney ** .5)) * 10\n",
        "  costs = 200 + adMoney\n",
        "  profit = revenue - costs\n",
        "  print(adMoney, profit)"
      ],
      "metadata": {
        "colab": {
          "base_uri": "https://localhost:8080/"
        },
        "id": "DZIuDXvQdD5d",
        "outputId": "9c511693-d357-41f9-d89a-59520d619ffc"
      },
      "execution_count": 6,
      "outputs": [
        {
          "output_type": "stream",
          "name": "stdout",
          "text": [
            "0 0\n",
            "25 75\n",
            "50 90\n",
            "75 105\n",
            "100 100\n",
            "125 95\n",
            "150 90\n",
            "175 85\n",
            "200 80\n"
          ]
        }
      ]
    }
  ]
}