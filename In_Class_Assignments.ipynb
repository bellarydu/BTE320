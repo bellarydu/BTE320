{
  "nbformat": 4,
  "nbformat_minor": 0,
  "metadata": {
    "colab": {
      "provenance": [],
      "authorship_tag": "ABX9TyNl6wv+mBxdCd0Mx8GG1b9a",
      "include_colab_link": true
    },
    "kernelspec": {
      "name": "python3",
      "display_name": "Python 3"
    },
    "language_info": {
      "name": "python"
    }
  },
  "cells": [
    {
      "cell_type": "markdown",
      "metadata": {
        "id": "view-in-github",
        "colab_type": "text"
      },
      "source": [
        "<a href=\"https://colab.research.google.com/github/bellarydu/BTE320/blob/main/In_Class_Assignments.ipynb\" target=\"_parent\"><img src=\"https://colab.research.google.com/assets/colab-badge.svg\" alt=\"Open In Colab\"/></a>"
      ]
    },
    {
      "cell_type": "code",
      "execution_count": null,
      "metadata": {
        "colab": {
          "base_uri": "https://localhost:8080/"
        },
        "id": "m9LcvFEjo-VM",
        "outputId": "c08fec41-d07a-452b-e870-4b7f04ffc5d6"
      },
      "outputs": [
        {
          "name": "stdout",
          "output_type": "stream",
          "text": [
            "radius: 5\n",
            "height: 5\n"
          ]
        }
      ],
      "source": [
        "from ast import Add\n",
        "Radius = input(\"radius: \") # My practice\n",
        "Radius = int(Radius)\n",
        "Height = input(\"height: \")\n",
        "Height = int(Height)\n",
        "pi = 3.14\n",
        "pi = int(3.14)\n",
        "Area = int((2 * pi ** (Radius) + (2 * pi * Radius * Height)))\n",
        "print = int(Area)"
      ]
    },
    {
      "cell_type": "code",
      "source": [
        "# First In Class Assignment\n",
        "pi = 3.14  # Approximate value of Pi\n",
        "\n",
        "radius = float(input('Please provide the radius: '))\n",
        "height = float(input('Please provide the height: '))\n",
        "\n",
        "area = 2 * pi * radius ** 2 + 2 * pi * radius * height\n",
        "print(f'Area of cylinder: {area} sq. ft')\n"
      ],
      "metadata": {
        "colab": {
          "base_uri": "https://localhost:8080/"
        },
        "id": "3gLG548GKa5A",
        "outputId": "6553b8fd-a7d8-4ab4-8d30-9d11e38a537e"
      },
      "execution_count": null,
      "outputs": [
        {
          "output_type": "stream",
          "name": "stdout",
          "text": [
            "Please provide the radius: 5\n",
            "Please provide the height: 6\n",
            "Area of cylinder: 345.4 sq. ft\n"
          ]
        }
      ]
    },
    {
      "cell_type": "code",
      "source": [
        "#In Class Assignment 1/31\n",
        "num1 = float(input(\"Please enter first number: \"))\n",
        "num2 = float(input(\"Please enter second number: \"))\n",
        "symbol = input(\"Please enter an symbol (+, -, *, /): \")\n",
        "\n",
        "if symbol == '+':\n",
        "    result = num1 + num2\n",
        "    print(f\"Result: {num1} + {num2} = {result}\")\n",
        "elif symbol == '-':\n",
        "    result = num1 - num2\n",
        "    print(f\"Result: {num1} - {num2} = {result}\")\n",
        "elif symbol == '*':\n",
        "    result = num1 * num2\n",
        "    print(f\"Result: {num1} * {num2} = {result}\")\n",
        "elif symbol == '/':\n",
        "    if num2 != 0:\n",
        "        result = num1 / num2\n",
        "        print(f\"Result: {num1} / {num2} = {result}\")\n",
        "    else:\n",
        "        print(\"Error: division by zero is not allowed.\")\n",
        "else:\n",
        "    print(\"Invalid symbol\")"
      ],
      "metadata": {
        "id": "NpquL3gqsVLy"
      },
      "execution_count": null,
      "outputs": []
    }
  ]
}